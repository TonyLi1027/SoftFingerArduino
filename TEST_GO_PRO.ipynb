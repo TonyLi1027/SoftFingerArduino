{
 "cells": [
  {
   "cell_type": "code",
   "execution_count": 1,
   "metadata": {},
   "outputs": [
    {
     "name": "stdout",
     "output_type": "stream",
     "text": [
      "Requirement already satisfied: goprocam in e:\\jupyter\\lib\\site-packages (3.0.4)\n"
     ]
    }
   ],
   "source": [
    "!pip install goprocam\n"
   ]
  },
  {
   "cell_type": "code",
   "execution_count": 11,
   "metadata": {},
   "outputs": [
    {
     "name": "stdout",
     "output_type": "stream",
     "text": [
      "HERO5 Black\n",
      "HD5.02.02.60.00\n",
      "Camera successfully connected!\n",
      "{\"status\":\"0\" }\n",
      "\n",
      "\n",
      "{}\n",
      "\n",
      "{}\n",
      "\n"
     ]
    }
   ],
   "source": [
    "from goprocam import GoProCamera, constants\n",
    "import cv2\n",
    "import socket\n",
    "from time import time\n",
    "WRITE = False\n",
    "gpCam = GoProCamera.GoPro()\n",
    "sock = socket.socket(socket.AF_INET, socket.SOCK_DGRAM)\n",
    "t=time()\n",
    "gpCam.livestream(\"start\")\n",
    "gpCam.video_settings(res='1080p', fps='30')\n",
    "gpCam.gpControlSet(constants.Stream.WINDOW_SIZE, constants.Stream.WindowSize.R720)\n",
    "cap = cv2.VideoCapture(\"udp://10.5.5.9:8554\", cv2.CAP_FFMPEG)\n",
    "counter = 0\n",
    "while True:\n",
    "    nmat, frame = cap.read()\n",
    "    cv2.imshow(\"GoPro OpenCV\", frame)\n",
    "    if WRITE == True:\n",
    "        cv2.imwrite(str(counter)+\".jpg\", frame)\n",
    "        counter += 1\n",
    "        if counter >= 10:\n",
    "            break\n",
    "    if cv2.waitKey(1) & 0xFF == ord('q'):\n",
    "        break\n",
    "    if time() - t >= 2.5:\n",
    "        sock.sendto(\"_GPHD_:0:0:2:0.000000\\n\".encode(), (\"10.5.5.9\", 8554))\n",
    "        t=time()\n",
    "# When everything is done, release the capture\n",
    "cap.release()\n",
    "cv2.destroyAllWindows()"
   ]
  },
  {
   "cell_type": "code",
   "execution_count": null,
   "metadata": {},
   "outputs": [],
   "source": []
  }
 ],
 "metadata": {
  "kernelspec": {
   "display_name": "Python 3",
   "language": "python",
   "name": "python3"
  },
  "language_info": {
   "codemirror_mode": {
    "name": "ipython",
    "version": 3
   },
   "file_extension": ".py",
   "mimetype": "text/x-python",
   "name": "python",
   "nbconvert_exporter": "python",
   "pygments_lexer": "ipython3",
   "version": "3.7.1"
  }
 },
 "nbformat": 4,
 "nbformat_minor": 2
}
