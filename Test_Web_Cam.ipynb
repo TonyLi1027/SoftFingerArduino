{
 "cells": [
  {
   "cell_type": "code",
   "execution_count": 1,
   "metadata": {},
   "outputs": [],
   "source": [
    "from goprocam import GoProCamera, constants\n",
    "from threading import Thread\n",
    "import cv2\n",
    "import socket\n",
    "import math\n",
    "import numpy as np\n",
    "from time import time\n",
    "WRITE = False\n",
    "frame_index = 0\n",
    "center = []\n",
    "cap=cv2.VideoCapture(0)\n",
    "while True:\n",
    "    ret, frame = cap.read()\n",
    "    cv2.imshow(\"webcam\", frame)\n",
    "    gray = cv2.cvtColor(frame, cv2.COLOR_BGR2GRAY)\n",
    "    gray = cv2.medianBlur(gray,21)\n",
    "    \n",
    "    params = cv2.SimpleBlobDetector_Params()\n",
    "    params.filterByArea = True\n",
    "    params.minArea = 160 * math.pi\n",
    "    params.filterByCircularity = True\n",
    "    params.minCircularity = 0.825\n",
    "    detector = cv2.SimpleBlobDetector_create(params)\n",
    "    keypoints = detector.detect(frame)\n",
    "        \n",
    "    bgr = frame.copy()\n",
    "    \n",
    "    for i in keypoints:\n",
    "        \n",
    "        # Highlight the circle\n",
    "        cv2.circle(bgr,(int(i.pt[0]),int(i.pt[1])),1,(0,255,0),2)\n",
    "        # Draw dot in the center\n",
    "        center.append([frame_index, int(i.pt[0]), int(i.pt[1])])\n",
    "    frame_index = frame_index + 1\n",
    "    cv2.imshow(\"circle\",bgr)    \n",
    "    if cv2.waitKey(1) & 0xFF == ord('q'):\n",
    "        break\n",
    "cap.release()\n",
    "cv2.destroyAllWindows()"
   ]
  },
  {
   "cell_type": "code",
   "execution_count": null,
   "metadata": {},
   "outputs": [],
   "source": []
  }
 ],
 "metadata": {
  "kernelspec": {
   "display_name": "Python 3",
   "language": "python",
   "name": "python3"
  },
  "language_info": {
   "codemirror_mode": {
    "name": "ipython",
    "version": 3
   },
   "file_extension": ".py",
   "mimetype": "text/x-python",
   "name": "python",
   "nbconvert_exporter": "python",
   "pygments_lexer": "ipython3",
   "version": "3.7.1"
  }
 },
 "nbformat": 4,
 "nbformat_minor": 2
}
