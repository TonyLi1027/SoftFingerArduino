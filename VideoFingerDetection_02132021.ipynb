{
 "cells": [
  {
   "cell_type": "code",
   "execution_count": 14,
   "metadata": {},
   "outputs": [],
   "source": [
    "#### finger_detected_circle_moving_v1_02162019.mp4 script ####\n",
    "#### This one detects a circle resulting from the finger curl\n",
    "import cv2\n",
    "import numpy as np\n",
    "\n",
    "center = []\n",
    "frame_index = 0\n",
    "#set up video capture\n",
    "vid = cv2.VideoCapture('openloop_set_0204.mp4')\n",
    "out = None\n",
    "while(True):\n",
    "    #print(vid.isOpened())\n",
    "    #read in video\n",
    "    ret, frame = vid.read() \n",
    "    if ret:\n",
    "        frame_dimension = frame.shape\n",
    "        frame_height = frame_dimension[0]\n",
    "        frame_width = frame_dimension[1]\n",
    "        if out is None:\n",
    "            fourcc = cv2.VideoWriter_fourcc(*'mp4v') # Be sure to use the lower case\n",
    "            out = cv2.VideoWriter('finger_detected_circle_moving_v1_02132021.mp4', \n",
    "                              fourcc, 20.0, (frame_width, frame_height), True)\n",
    "    \n",
    "        #convert video from BGR to Grayscale\n",
    "        gray_vid = cv2.cvtColor(frame, cv2.COLOR_BGR2GRAY)\n",
    "        \n",
    "        #Apply median blur to the grayscaled video - parameters: input video, kernel size\n",
    "        gray_vid = cv2.medianBlur(gray_vid, 21)\n",
    "        \n",
    "        #Apply Hough Circle Transform\n",
    "        circles = cv2.HoughCircles(gray_vid,cv2.HOUGH_GRADIENT,1,20,\n",
    "                                   param1=110,param2=49,minRadius=0,maxRadius=0)\n",
    "        #Set circles variable equal to itself cast to a numpy array of uint16 data type, with rounding to 0 decimals\n",
    "        circles = np.uint16(np.around(circles))\n",
    "        #np.savetxt(\"video1.csv\", circles[:1], delimiter=\",\", fmt='%d', comments = '')\n",
    "        #Convert grayscaled video to BGR for drawing the discovered circles and their center point\n",
    "        bgr_vid = cv2.cvtColor(gray_vid, cv2.COLOR_GRAY2BGR)\n",
    "        \n",
    "        for i in circles[0,:]:\n",
    "            center.append([frame_index, i[0], i[1]])\n",
    "           # draw the outer circle\n",
    "            cv2.circle(bgr_vid,(i[0],i[1]),i[2],(0,255,0),2)\n",
    "           # draw the center of the circle\n",
    "            cv2.circle(bgr_vid,(i[0],i[1]),2,(0,0,255),3)\n",
    "            \n",
    "        frame_index = frame_index + 1    \n",
    "        np.savetxt(\"video1.csv\", center, delimiter=\",\", fmt='%d', comments = '')\n",
    "        out.write(bgr_vid)\n",
    "    else:\n",
    "        break\n",
    "out.release()\n",
    "vid.release()\n",
    "cv2.destroyAllWindows()"
   ]
  },
  {
   "cell_type": "code",
   "execution_count": null,
   "metadata": {},
   "outputs": [],
   "source": []
  }
 ],
 "metadata": {
  "kernelspec": {
   "display_name": "Python 3",
   "language": "python",
   "name": "python3"
  },
  "language_info": {
   "codemirror_mode": {
    "name": "ipython",
    "version": 3
   },
   "file_extension": ".py",
   "mimetype": "text/x-python",
   "name": "python",
   "nbconvert_exporter": "python",
   "pygments_lexer": "ipython3",
   "version": "3.7.1"
  }
 },
 "nbformat": 4,
 "nbformat_minor": 2
}
